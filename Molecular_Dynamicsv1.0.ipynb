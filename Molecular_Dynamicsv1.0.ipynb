{
 "cells": [
  {
   "cell_type": "markdown",
   "id": "79fe0e55",
   "metadata": {},
   "source": [
    "# Microcanonical Molecular Dynamics Simulation\n",
    "Velocity Verlet Algorithm; created 07/09/24\n",
    "\n",
    "#### References\n",
    "- D. Frenkel and B. Smit, *Understanding Molecular Simulation*, Academic Press, 2002."
   ]
  },
  {
   "cell_type": "markdown",
   "id": "034a77e9",
   "metadata": {},
   "source": [
    "## Libraries"
   ]
  },
  {
   "cell_type": "code",
   "execution_count": 1,
   "id": "1b6d0a8e",
   "metadata": {},
   "outputs": [],
   "source": [
    "import numpy as np\n",
    "import random\n",
    "import sys\n",
    "import os\n",
    "\n",
    "%matplotlib inline\n",
    "import matplotlib.pyplot as plt\n",
    "import matplotlib.ticker as mtick\n",
    "from matplotlib.ticker import FormatStrFormatter\n",
    "plt.rcParams[\"font.family\"] = \"Times New Roman\"\n",
    "plt.rcParams[\"mathtext.fontset\"] = \"stix\""
   ]
  },
  {
   "cell_type": "markdown",
   "id": "59722601",
   "metadata": {},
   "source": [
    "## Initial Parameters\n",
    "All are in reduced units."
   ]
  },
  {
   "cell_type": "code",
   "execution_count": 16,
   "id": "cbc1de19",
   "metadata": {},
   "outputs": [],
   "source": [
    "# Particle Parameters\n",
    "m = 1 # Mass of particles\n",
    "eps = 1 #epsilon\n",
    "sig = 1 #sigma\n",
    "\n",
    "# Initial Parameters\n",
    "steps = 5000 # Number of time steps\n",
    "N = 900 # Number of particles\n",
    "L = 10 # Side of box, int\n",
    "rc = 3*sig #Cut off radius for interactions\n",
    "dt = 0.01 # Time step\n",
    "T = 1 # Initial Temperature\n",
    "\n",
    "# Constants\n",
    "kb = 1\n",
    "\n",
    "# Useful Quantities\n",
    "ecut = 4*eps*((sig/rc)**12 - (sig/rc)**6) # Potential at the cutoff; r = rc\n",
    "r_range = np.linspace(0, L/2, num=100) # For radial distribution function - bins\n",
    "density = m*N/L**3 # Density of particles"
   ]
  },
  {
   "cell_type": "markdown",
   "id": "20b39327",
   "metadata": {},
   "source": [
    "## Functions\n",
    "- length: Difference in coordinates and distance between two particles taking into account the minimum image convention.\n",
    "- energy: Returns the potential and kinetic energy of the system.\n",
    "- force: Components of force due to Lennard-Jones interactions.\n",
    "- update: Updates the position, velocity, and acceleration of each particle after a single time step.\n",
    "- g: Number of particles within a range for the radial distribution function."
   ]
  },
  {
   "cell_type": "code",
   "execution_count": 17,
   "id": "db8ea066",
   "metadata": {},
   "outputs": [],
   "source": [
    "def length(position):\n",
    "    \"\"\"\n",
    "    Returns two arrays: the first containing the differences in coordinates and\n",
    "    the second the distance between each pair of particles as an N X N matrix.\n",
    "\n",
    "    Parameters\n",
    "    ----------\n",
    "    position: ndarray of floats, N x 3\n",
    "        x, y, z coordinates of each particle.\n",
    "    \n",
    "    Returns\n",
    "    -------\n",
    "    diff: ndarray, N x N x 3\n",
    "        Differences in coordinates between a particle and all other particles.\n",
    "    \n",
    "    Y: ndarray, N x N\n",
    "        Distance squared between particles as a matrix Y, where Y[i,j] is the\n",
    "        closest image distance squared between particle i and j.\n",
    "    \"\"\"\n",
    "    \n",
    "    Y = np.zeros((N, N))\n",
    "    diff = np.zeros((N, N, 3))\n",
    "\n",
    "    for i in range(N):\n",
    "        diff[i] = position[i] - position #diff[i] is the difference in x/y/z coords of particle i to all other particles\n",
    "        diff[i] = diff[i] - L*np.round(diff[i]/L, decimals=0) # difference between nearest image\n",
    "        Y[i] = np.sum(diff[i]**2, axis=1) #Distance squared matrix\n",
    "\n",
    "    return diff, Y\n"
   ]
  },
  {
   "cell_type": "code",
   "execution_count": 18,
   "id": "f07e5332",
   "metadata": {},
   "outputs": [],
   "source": [
    "#Energy and force using Lennard-Jones\n",
    "\n",
    "def energy(epsilon, sigma, position, velocity):\n",
    "    \"\"\"\n",
    "    Returns the energy of the system (potential, kinetic).\n",
    "\n",
    "    Parameters\n",
    "    ----------\n",
    "    epsilon: float\n",
    "        Well depth.\n",
    "    \n",
    "    sigma: float\n",
    "        Distance at which potential energy is zero.\n",
    "    \n",
    "    position: ndarray of floats, N x 3\n",
    "        Position of each particle.\n",
    "\n",
    "    velocity: ndarray of floats, N x 3\n",
    "        x, y, z component of velocity of each particle.\n",
    "    \n",
    "    Returns\n",
    "    -------\n",
    "    pot: float\n",
    "        Total potential energy of the system.\n",
    "\n",
    "    kin: float\n",
    "        Total kinetic energy of the system.\n",
    "    \"\"\"\n",
    "\n",
    "    LJ_array = np.zeros((N,3))\n",
    "    coord, dist = length(position)\n",
    "    dist[dist>rc**2] = 0 # Sets potential to those with distances creater than rc to be 0 (truncate)\n",
    "\n",
    "    with np.errstate(divide='ignore', invalid='ignore'):\n",
    "        a = (sigma/dist)**6\n",
    "        b = (sigma/dist)**3\n",
    "        LJ_array = 4*epsilon*(a - b) - ecut # Shifts potential\n",
    "        LJ_array[LJ_array == np.inf] = 0\n",
    "        LJ_array = np.nan_to_num(LJ_array)\n",
    "\n",
    "    pot = np.sum(LJ_array)\n",
    "    kin = 0.5*m*np.sum(velocity**2)\n",
    "    return pot, kin\n",
    "\n",
    "\n",
    "def force(epsilon, sigma, position):\n",
    "    \"\"\"\n",
    "    Returns the force due to the Lennard-Jones potential of each particle.\n",
    "    \n",
    "    Parameters\n",
    "    ----------\n",
    "    epsilon: float\n",
    "        Well depth.\n",
    "    \n",
    "    sigma: float\n",
    "        Distance at which potential energy is zero.\n",
    "    \n",
    "    position: ndarray of floats, N x 3\n",
    "        Position of each particle.\n",
    "    \n",
    "    Returns\n",
    "    -------\n",
    "    ndarray of floats, N x 3\n",
    "        x, y, z component of force on each particle as a result of the pair-wise interactions.\n",
    "    \"\"\"\n",
    "\n",
    "    force_array = np.zeros((N,N,3))\n",
    "    coord, dist = length(position)\n",
    "    dist[dist>rc**2] = 0\n",
    "\n",
    "    dist = np.repeat(dist[:, :, np.newaxis], 3, axis=2)\n",
    "    # Repeats each column 3 times to allow for faster calculation (compared to for loop)\n",
    "    # dist is now a N x N x 3 matrix, matching the shape of coord\n",
    "\n",
    "    with np.errstate(divide='ignore', invalid='ignore'):\n",
    "        a = (sigma/dist)**6\n",
    "        b = (sigma/dist)**3\n",
    "        force_array = ((48*epsilon*coord)/dist)*(a - 0.5*b)\n",
    "        force_array[force_array == np.inf] = 0\n",
    "        force_array = np.nan_to_num(force_array)\n",
    "\n",
    "    return np.sum(force_array, axis=1)\n"
   ]
  },
  {
   "cell_type": "code",
   "execution_count": 19,
   "id": "58f4f616",
   "metadata": {},
   "outputs": [],
   "source": [
    "def update(position, velocity, acceleration, delta):\n",
    "    \"\"\"\n",
    "    Returns the updated positions, velocities, and accelerations of the particles after one time step.\n",
    "    \n",
    "    Parameters\n",
    "    ----------\n",
    "    position: ndarray of floats, N x 3\n",
    "        x, y, z coordinates of each particle.\n",
    "\n",
    "    velocity: ndarray of floats, N x 3\n",
    "        x, y, z component of velocity of each particle.\n",
    "\n",
    "    acceleration: ndarray of floats, N x 3\n",
    "        x, y, z coordinates of each particle.\n",
    "\n",
    "    delta: float\n",
    "        Time step.\n",
    "    \n",
    "    Returns\n",
    "    -------\n",
    "    ndarray of 3 ndarrys of floats\n",
    "        Updated arrays of position, velocity, and acceleration of each particle.\n",
    "    \"\"\"\n",
    "    \n",
    "    new_r = (position + delta*velocity + 0.5*acceleration*delta**2) % L\n",
    "    new_a = force(eps, sig, new_r)/m\n",
    "    new_v = velocity + 0.5*delta*(acceleration + new_a)\n",
    "    return new_r, new_v, new_a"
   ]
  },
  {
   "cell_type": "code",
   "execution_count": 20,
   "id": "46dfa4a4",
   "metadata": {},
   "outputs": [],
   "source": [
    "def g(position):\n",
    "    \"\"\"\n",
    "    Returns the unnormalised radial distribution function (number of particles\n",
    "    within a given range).\n",
    "\n",
    "    Parameters\n",
    "    ----------\n",
    "    position: ndarray of floats, N x 3\n",
    "        x, y, z coordinates of each particle.\n",
    "    \n",
    "    Returns\n",
    "    -------\n",
    "    ndarray\n",
    "        The number of particles in each bin.\n",
    "        \n",
    "    \"\"\"\n",
    "    \n",
    "    coord, dist = length(position)\n",
    "    dist = np.sqrt(dist)\n",
    "\n",
    "    counts, edges = np.histogram(dist[dist!=0], bins=r_range) # Histogram of all pairwise distances, excluding 0 (self)\n",
    "\n",
    "    return counts/N # Average number density across all particles"
   ]
  },
  {
   "cell_type": "markdown",
   "id": "cc8e88f3",
   "metadata": {},
   "source": [
    "#### Data Files\n",
    "Code below creates a directory named \"data\" and contains function gen_file which generates .xyz data files, for use for visualisation. I used OVITO to visualise my simulation runs."
   ]
  },
  {
   "cell_type": "code",
   "execution_count": 21,
   "id": "232c8b91",
   "metadata": {},
   "outputs": [],
   "source": [
    "outdir=\"data\"\n",
    "try: #make directory if it does not exist\n",
    "    os.mkdir(outdir)\n",
    "except:\n",
    "    pass\n",
    "\n",
    "def gen_file(position,t):\n",
    "    \"\"\"\n",
    "    Generates a .xyz file containing the coordinates of all particles.\n",
    "\n",
    "    Parameters\n",
    "    ----------\n",
    "    position: ndarray of floats, N x 3\n",
    "        x, y, z coordinates of each particle.\n",
    "\n",
    "    t: float\n",
    "        Time step.\n",
    "    \n",
    "    \"\"\"\n",
    "    \n",
    "    fname=outdir+\"/t\"+str(t+1)+\".xyz\"\n",
    "    f=open(fname,\"w\")\n",
    "    f.write(str(N) + \"\\n\") # number of atoms\n",
    "    f.write('Lattice=\"'+ str(L) +\" 0.0 0.0 0.0 \" + str(L) +\" 0.0 0.0 0.0 \" + str(L) + '\" '\n",
    "            + \"Properties=\"+\"pos:R:3\" + \"\\n\") # Periodic bc not specified so are assumed\n",
    "    for i in range(len(position)):\n",
    "        f.write(str(position[i][0])+\" \"+str(position[i][1])+\" \"+str(position[i][2])+\"\\n\")\n",
    "    f.close"
   ]
  },
  {
   "cell_type": "markdown",
   "id": "6c2be9ae",
   "metadata": {},
   "source": [
    "## Initialisation\n",
    "- Randomise positions so there are no duplicated and are all at least 1 unit apart.\n",
    "- Randomise velocities such that they are within [-0.5, 0.5].\n",
    "- Acceleration is given by the force due to the Lennard-Jones potential.\n",
    "- Initial positions are saved as 'r0'.\n",
    "- Velocities are then scaled to a set initial temperature."
   ]
  },
  {
   "cell_type": "code",
   "execution_count": 22,
   "id": "d582e59f",
   "metadata": {},
   "outputs": [],
   "source": [
    "#Initial conditions\n",
    "\n",
    "r = set() # Allows each particle to be 1 apart whilst preventing duplicates\n",
    "while len(r) < N:\n",
    "    initial = (random.randint(0, L-1), random.randint(0, L-1), random.randint(0, L-1)) # Using np.random.randit takes much much longer - for 100 particles, it still hasn't finished after 2+ mins whilst here it takes 0.1s\n",
    "    if initial not in r:\n",
    "        r.add(initial)\n",
    "\n",
    "r = np.array(list(r))\n",
    "v = np.random.rand(N, 3) - 0.5 #Random velocities between -0.5 and 0.5\n",
    "\n",
    "a = force(eps, sig, r)/m # Initial acceleration\n",
    "\n",
    "r0 = r"
   ]
  },
  {
   "cell_type": "code",
   "execution_count": 23,
   "id": "88a409a0",
   "metadata": {},
   "outputs": [],
   "source": [
    "# Scaling velocities to initial temperature\n",
    "\n",
    "v_com = np.sum(v,axis=0)/N # velocity centre of mass\n",
    "v = v - v_com\n",
    "\n",
    "U, KE = energy(eps, sig, r, v)\n",
    "\n",
    "temp = 2*KE/(3*N*kb) # Instantaneous T of system; F&S Eq 4.2.2; Factor of 2 is due to KE being 0.5 mv^2\n",
    "sf = np.sqrt(T/temp)\n",
    "\n",
    "v = sf*v # Sets centre of mass to be 0, and scales v to be that of set temp."
   ]
  },
  {
   "cell_type": "markdown",
   "id": "83d11402",
   "metadata": {},
   "source": [
    "## Running the Simulation"
   ]
  },
  {
   "cell_type": "code",
   "execution_count": 27,
   "id": "d7f8a30e",
   "metadata": {},
   "outputs": [
    {
     "data": {
      "image/png": "[encoded data removed]",
      "text/plain": [
       "<Figure size 640x480 with 5 Axes>"
      ]
     },
     "metadata": {},
     "output_type": "display_data"
    }
   ],
   "source": [
    "\n",
    "run = 1 # If wanting to edit graphs/mess around with data without doing another simulation run set run to anything other than 1.\n",
    "skip = 20 # If generating data files, how many steps to skip per file\n",
    "\n",
    "fig, axes = plt.subplot_mosaic(\"AB;CD;EE;EE\", sharex=True)\n",
    "\n",
    "if run==1:\n",
    "\n",
    "    # Arrays containing the average property (over the particles) per time step\n",
    "\n",
    "    sumv = np.empty((steps)) # Sum of velocity components\n",
    "    kinetic = np.empty((steps)) # Kinetic energy\n",
    "    potential = np.empty((steps)) # Potential energy\n",
    "    MSD = np.empty((steps)) # Mean squared displacement\n",
    "    radial_dist = np.empty((steps, len(r_range)-1)) # Radial distribution function\n",
    "    p = np.empty((steps)) # Pressure\n",
    "\n",
    "    for i in range(steps):\n",
    "        gen_file(r,int(i/skip))\n",
    "\n",
    "        sumv[i] = np.sum(v)\n",
    "        potential[i], kinetic[i] = energy(eps, sig, r, v)\n",
    "        MSD[i] = np.sum((r-r0)**2)\n",
    "        p[i] = np.sum(np.multiply(a*m, r)) # Half of virial eqn, other half added below\n",
    "        radial_dist[i] = g(r)\n",
    "\n",
    "        r, v, a = update(r,v,a,dt)\n",
    "\n",
    "        sys.stdout.write('\\r')\n",
    "        sys.stdout.write(\"Progress: {:.2%}\".format(i/steps))\n",
    "        sys.stdout.flush()\n",
    "\n",
    "MSD = MSD/N # Sum already done - this averages over all particles. Leaves one less step in for loop\n",
    "E = kinetic + potential\n",
    "inst_temp = 2*kinetic/(3*N*kb) #Instantaneous temperature of system\n",
    "p = (3*N*kb*inst_temp + p/N)/(3*L**3) # Virial Eqn; Eq. 4.4.2\n",
    "\n",
    "axes[\"A\"].scatter(np.arange(steps), sumv,s=0.7)\n",
    "axes[\"A\"].yaxis.set_major_formatter(mtick.ScalarFormatter(useMathText=True))\n",
    "axes[\"A\"].yaxis.get_offset_text().set_visible(False)\n",
    "\n",
    "axes[\"B\"].scatter(np.arange(steps), inst_temp, label=\"Temp\", s=0.7)\n",
    "axes[\"B\"].set_ylabel(\"Temperature\")\n",
    "axes[\"B\"].yaxis.set_major_formatter(FormatStrFormatter('%.1f'))\n",
    "\n",
    "axes[\"C\"].scatter(np.arange(steps), MSD, label=\"MSD\", s=0.7)\n",
    "axes[\"C\"].set_ylabel(\"Mean Squared \\n\" + \"Displacement\")\n",
    "\n",
    "axes[\"D\"].scatter(np.arange(steps), p, label=\"Pressure\", s=0.7)\n",
    "axes[\"D\"].set_ylabel(\"Pressure\")\n",
    "\n",
    "axes[\"E\"].plot(np.arange(steps), kinetic/N, label=\"Kinetic\")\n",
    "axes[\"E\"].plot(np.arange(steps), E/N, label=\"Total\")\n",
    "axes[\"E\"].plot(np.arange(steps), potential/N, label = \"Potential\")\n",
    "axes[\"E\"].set_ylabel(\"Energy per particle\")\n",
    "axes[\"E\"].legend(loc=\"center right\", bbox_to_anchor=(1,0.62))\n",
    "\n",
    "axes[\"E\"].set_xlim(-0.005*steps, 1.005*steps)\n",
    "\n",
    "fig.supxlabel(\"Time Steps\")\n",
    "\n",
    "plt.tight_layout(w_pad=0.5)\n",
    "\n",
    "# Remove scientif notation above the plot for sum of velocities and move it to the y axis label\n",
    "offset = axes[\"A\"].yaxis.get_major_formatter().get_offset() # Empty string if called before tight_layout\n",
    "axes[\"A\"].set_ylabel(\"$ \\sum_{i} \\mathbf{v}_{i} $\" + \" / \" + offset)\n",
    "\n",
    "plt.show()\n"
   ]
  },
  {
   "cell_type": "markdown",
   "id": "df9d0ab1",
   "metadata": {},
   "source": [
    "## Measurements"
   ]
  },
  {
   "cell_type": "markdown",
   "id": "8e7399d4",
   "metadata": {},
   "source": [
    "### Thermodynamic Properties"
   ]
  },
  {
   "cell_type": "code",
   "execution_count": 25,
   "id": "1bd58554",
   "metadata": {},
   "outputs": [
    {
     "name": "stdout",
     "output_type": "stream",
     "text": [
      "Temperature: 1.814 +/- 0.002\n",
      "Kinetic Energy: 2449.244 +/- 2.27\n",
      "Potential Energy: -8310.397 +/- 4.57\n",
      "Total Energy: -5861.153 +/- 2.31\n",
      "Pressure: 1.633 +/- 0.002\n",
      "Isochoric Heat Capacity: 1.1877156411184162e-06\n"
     ]
    }
   ],
   "source": [
    "# Properties averaged over all time steps\n",
    "\n",
    "T_f = np.mean(inst_temp) # Average temperature of system\n",
    "T_err = np.std(inst_temp)/np.sqrt(N)\n",
    "\n",
    "KE_f = np.mean(kinetic) # Average kinetic energy\n",
    "KE_err = np.std(kinetic)/np.sqrt(N)\n",
    "\n",
    "U_f = np.mean(potential) # Average potential energy\n",
    "U_err = np.std(potential)/np.sqrt(N)\n",
    "\n",
    "E_f = np.mean(E) # Average total energy\n",
    "E_err = np.std(E)/np.sqrt(N)\n",
    "\n",
    "P_f = np.mean(p) # Average pressure\n",
    "P_err = np.std(p)/np.sqrt(N)\n",
    "\n",
    "# Heat capacity\n",
    "Cv = (3/2)*kb/(1 + ((3*N)/(3*(kb*T_f**2)))*np.var(kinetic)) # Rearranged from Eq. 4.4.3\n",
    "\n",
    "print(\"Temperature: {:.3f} +/- {:.3f}\". format(T_f, T_err))\n",
    "print(\"Kinetic Energy: {:.3f} +/- {:.2f}\".format(KE_f, KE_err))\n",
    "print(\"Potential Energy: {:.3f} +/- {:.2f}\".format(U_f, U_err))\n",
    "print(\"Total Energy: {:.3f} +/- {:.2f}\".format(E_f, E_err))\n",
    "print(\"Pressure: {:.3f} +/- {:.3f}\".format(P_f, P_err))\n",
    "print(\"Isochoric Heat Capacity: {}\".format(Cv))\n"
   ]
  },
  {
   "cell_type": "markdown",
   "id": "6e792610",
   "metadata": {},
   "source": [
    "### Radial Distribution Function"
   ]
  },
  {
   "cell_type": "code",
   "execution_count": 26,
   "id": "3bbce293",
   "metadata": {},
   "outputs": [
    {
     "data": {
      "text/plain": [
       "Text(0.5, 1.0, 'Radial Distribution Function')"
      ]
     },
     "execution_count": 26,
     "metadata": {},
     "output_type": "execute_result"
    },
    {
     "data": {
      "image/png": "[encoded data removed]",
      "text/plain": [
       "<Figure size 640x480 with 1 Axes>"
      ]
     },
     "metadata": {},
     "output_type": "display_data"
    }
   ],
   "source": [
    "# Normalising g(r)\n",
    "\n",
    "V = np.empty((len(r_range)-1)) # Volume of each bin\n",
    "\n",
    "for i in range(len(r_range)-1):\n",
    "    V[i] = (4/3)*np.pi*(r_range[i+1]**3 - r_range[i]**3)\n",
    "    \n",
    "ideal = density * V # Number of particles if ideal gas\n",
    "mid = 0.5*(r_range[:-1]+r_range[1:])\n",
    "\n",
    "plt.plot(mid, np.mean(radial_dist, axis=0)/ideal)\n",
    "plt.xlabel(\"r / \" + \"$ \\sigma $\")\n",
    "plt.ylabel(\"$ g (r) $\")\n",
    "plt.title(\"Radial Distribution Function\")"
   ]
  },
  {
   "cell_type": "code",
   "execution_count": null,
   "id": "ed77547d",
   "metadata": {},
   "outputs": [],
   "source": []
  }
 ],
 "metadata": {
  "kernelspec": {
   "display_name": "Python 3 (ipykernel)",
   "language": "python",
   "name": "python3"
  },
  "language_info": {
   "codemirror_mode": {
    "name": "ipython",
    "version": 3
   },
   "file_extension": ".py",
   "mimetype": "text/x-python",
   "name": "python",
   "nbconvert_exporter": "python",
   "pygments_lexer": "ipython3",
   "version": "3.11.9"
  }
 },
 "nbformat": 4,
 "nbformat_minor": 5
}
